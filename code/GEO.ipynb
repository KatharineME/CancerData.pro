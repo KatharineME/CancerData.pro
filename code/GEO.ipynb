{
 "cells": [
  {
   "outputs": [],
   "cell_type": "code",
   "source": [
    "using BioLab\n",
    "\n",
    "ENV[\"LINES\"] = 10"
   ],
   "id": "2f2e3891-39dd-4123-a959-6c56de9fbf0d",
   "metadata": {},
   "execution_count": null
  },
  {
   "cell_type": "markdown",
   "source": [
    "## read and tabulate"
   ],
   "id": "24e6340b-e3a0-48d4-b2b3-ba4fd099dfcb",
   "metadata": {}
  },
  {
   "outputs": [],
   "cell_type": "code",
   "source": [
    "sa = \"GSE179674\"\n",
    "\n",
    "ty_bl, fe_x_sa_x_an, fe_x_sa_x_nu_____ = nothing, nothing, nothing\n",
    "\n",
    "for gs in (sa,)\n",
    "\n",
    "    println(\"=\"^99)\n",
    "\n",
    "    println(gs)\n",
    "\n",
    "    println(\"-\"^99)\n",
    "\n",
    "    ty_bl = BioLab.GEO.read(gs; pr = false)\n",
    "\n",
    "    fe_x_sa_x_an, fe_x_sa_x_nu_____... = BioLab.GEO.tabulate(ty_bl)\n",
    "\n",
    "    println(size(fe_x_sa_x_an))\n",
    "\n",
    "    println([size(fe_x_sa_x_nu) for fe_x_sa_x_nu in fe_x_sa_x_nu_____])\n",
    "\n",
    "end"
   ],
   "id": "2768aa23-9fd6-4e3c-b301-2a75b8b2bd93",
   "metadata": {},
   "execution_count": null
  },
  {
   "outputs": [],
   "cell_type": "code",
   "source": [
    "names(fe_x_sa_x_an)[40]"
   ],
   "id": "ad25522b-af9f-4f18-9e7b-1ea41257309b",
   "metadata": {},
   "execution_count": null
  },
  {
   "outputs": [],
   "cell_type": "code",
   "source": [
    "fe_x_sa_x_an"
   ],
   "id": "4ba85535-5a07-4569-9319-be515857fe2b",
   "metadata": {},
   "execution_count": null
  },
  {
   "outputs": [],
   "cell_type": "code",
   "source": [
    "co_ = names(fe_x_sa_x_an)\n",
    "\n",
    "pa_ = []\n",
    "\n",
    "tr_ = []\n",
    "\n",
    "for co in co_\n",
    "\n",
    "    if co == \"Characteristic\"\n",
    "\n",
    "        tr = \"treatment_stage\"\n",
    "\n",
    "    else\n",
    "\n",
    "        tr = replace(join(split(co, \",\")[2:end], \"_\"), \" \" => \"_\")\n",
    "\n",
    "    end\n",
    "\n",
    "    push!(tr_, tr)\n",
    "\n",
    "end\n",
    "\n",
    "pushfirst!(fe_x_sa_x_an, tr_)"
   ],
   "id": "0c8cd604-a138-41ae-9002-f5cd2a895e87",
   "metadata": {},
   "execution_count": null
  },
  {
   "outputs": [],
   "cell_type": "code",
   "source": [
    "fe_x_sa_x_nu_____[1]"
   ],
   "id": "8c4004c2-7a0e-48b9-9fb6-cc9370239244",
   "metadata": {},
   "execution_count": null
  },
  {
   "cell_type": "markdown",
   "source": [
    "## Check duplicates and NAs"
   ],
   "id": "7622608b-ce84-4380-9ec2-71fde18c641f",
   "metadata": {}
  },
  {
   "outputs": [],
   "cell_type": "code",
   "source": [
    "using StatsBase: countmap\n",
    "\n",
    "sort(countmap(eachrow(fe_x_sa_x_an)), byvalue = true, rev = true)"
   ],
   "id": "4548751c-c84f-4315-bb82-2e3481cc5d55",
   "metadata": {},
   "execution_count": null
  },
  {
   "outputs": [],
   "cell_type": "code",
   "source": [
    "sort(countmap(fe_x_sa_x_nu_____[1][!, :GPL6098]), byvalue = true, rev = true)"
   ],
   "id": "b87aee4d-1315-425a-831e-1f1b063872fd",
   "metadata": {},
   "execution_count": null
  },
  {
   "outputs": [],
   "cell_type": "code",
   "source": [
    "fi = \"/Users/kate/Downloads/GSE212690_normalized_counts.txt\"\n",
    "\n",
    "ta = BioLab.Table.read(fi)"
   ],
   "id": "a0b7d858-d0c5-4d75-b9a7-f892c79c6890",
   "metadata": {},
   "execution_count": null
  },
  {
   "outputs": [],
   "cell_type": "code",
   "source": [
    "l = length(names(ta))\n",
    "co_ = names(ta)[2:l]\n",
    "select!(ta, co_)\n",
    "select!(ta, Not(:GeneBiotype))"
   ],
   "id": "f116c2a2-4347-42eb-9075-6893c964069c",
   "metadata": {},
   "execution_count": null
  },
  {
   "outputs": [],
   "cell_type": "code",
   "source": [
    "ta = ta[completecases(ta), :]"
   ],
   "id": "d858fa57-f665-4130-a3f8-b4baecaafedf",
   "metadata": {},
   "execution_count": null
  },
  {
   "outputs": [],
   "cell_type": "code",
   "source": [
    "for g in ta[!, :GeneID]\n",
    "\n",
    "    if occursin(\"ambiguous\", g)\n",
    "\n",
    "        println(g)\n",
    "\n",
    "    end\n",
    "\n",
    "end"
   ],
   "id": "ad105ed2-2abd-4c2e-942c-9b0052b39f51",
   "metadata": {},
   "execution_count": null
  },
  {
   "outputs": [],
   "cell_type": "code",
   "source": [
    "na_, ma_ = BioLab.Gene.rename(ta[!, :GeneID], (\"ensembl\",))"
   ],
   "id": "03dd83e6-c516-4fc7-9962-6c4d9ea5bccd",
   "metadata": {},
   "execution_count": null
  },
  {
   "outputs": [],
   "cell_type": "code",
   "source": [
    "ta[!, :Gene] = na_"
   ],
   "id": "b44c6ccc-cbf8-4e87-b00b-638a82a76506",
   "metadata": {},
   "execution_count": null
  },
  {
   "outputs": [],
   "cell_type": "code",
   "source": [
    "l = length(names(ta))"
   ],
   "id": "56d8d88a-0c99-45f5-ad33-26bdc438cf05",
   "metadata": {},
   "execution_count": null
  },
  {
   "outputs": [],
   "cell_type": "code",
   "source": [
    "co_ = names(ta)[2:l]\n",
    "\n",
    "select!(ta, co_)"
   ],
   "id": "8d5284b2-c294-45f6-848d-9546c871dccf",
   "metadata": {},
   "execution_count": null
  },
  {
   "outputs": [],
   "cell_type": "code",
   "source": [
    "ta"
   ],
   "id": "3226526f-81ee-4c46-af60-58c3a66cfb80",
   "metadata": {},
   "execution_count": null
  },
  {
   "outputs": [],
   "cell_type": "code",
   "source": [
    "select!(ta, \"Gene\", Not([\"Gene\"]))"
   ],
   "id": "2bdeaa45-b258-4c64-b9be-dbf4585a9808",
   "metadata": {},
   "execution_count": null
  },
  {
   "outputs": [],
   "cell_type": "code",
   "source": [
    "sort(countmap(ta[!, :Gene]), byvalue = true, rev = true)"
   ],
   "id": "eba8284b-4c41-4b61-b3a3-a8c06b60a388",
   "metadata": {},
   "execution_count": null
  },
  {
   "cell_type": "markdown",
   "source": [
    "## Save tsv"
   ],
   "id": "84016d87-eced-424f-90c6-cd3dd12e48cb",
   "metadata": {}
  },
  {
   "outputs": [],
   "cell_type": "code",
   "source": [
    "pa = \"/Users/kate/Downloads/\""
   ],
   "id": "d3d2b6ea-1574-4935-9760-25f8008fea39",
   "metadata": {},
   "execution_count": null
  },
  {
   "outputs": [],
   "cell_type": "code",
   "source": [
    "fi = joinpath(pa, \"$(sa)_annotation.tsv\")\n",
    "\n",
    "BioLab.Table.write(fi, fe_x_sa_x_an)"
   ],
   "id": "557487ba-0655-45bd-a524-57dcda132463",
   "metadata": {},
   "execution_count": null
  },
  {
   "outputs": [],
   "cell_type": "code",
   "source": [
    "ta = ta\n",
    "# ta =  fe_x_sa_x_nu_____[1]\n",
    "\n",
    "fi = joinpath(pa, \"$(sa).tsv\")\n",
    "\n",
    "BioLab.Table.write(fi, BioLab.DataFrame.collapse(ta))"
   ],
   "id": "00549f8d-4812-4c5e-bbd4-74342de479b4",
   "metadata": {},
   "execution_count": null
  },
  {
   "cell_type": "markdown",
   "source": [
    "## Add platform"
   ],
   "id": "3496d364-3470-4ec3-9329-adf90f33ef8b",
   "metadata": {}
  },
  {
   "outputs": [],
   "cell_type": "code",
   "source": [
    "ta = ty_bl[\"PLATFORM\"][\"GPL6098\"][\"fe_x_in_x_an\"]\n",
    "\n",
    "for (na, co) in zip(names(ta), eachcol(ta))\n",
    "\n",
    "    if na in [\"Symbol\", \"GB_ACC\"]\n",
    "\n",
    "        println()\n",
    "\n",
    "        println(na)\n",
    "\n",
    "        println(length(unique(co)))\n",
    "\n",
    "        g = 0\n",
    "\n",
    "        e = 0\n",
    "\n",
    "        for i in co\n",
    "\n",
    "            if length(i) < 1\n",
    "\n",
    "                e += 1\n",
    "\n",
    "            elseif occursin(\";\", i)\n",
    "\n",
    "                g += 1\n",
    "\n",
    "            end\n",
    "        end\n",
    "\n",
    "        print(\"g: $g\\n\")\n",
    "\n",
    "        print(\"e: $e\\n\")\n",
    "\n",
    "    end\n",
    "\n",
    "end"
   ],
   "id": "b8c2beb9-6d3d-4413-9bc5-f93e58707d1f",
   "metadata": {},
   "execution_count": null
  },
  {
   "outputs": [],
   "cell_type": "code",
   "source": [
    "il = ta[!, \"GB_ACC\"]\n",
    "sy = ta[!, \"Symbol\"]\n",
    "\n",
    "println(length(intersect(il, sy)))\n",
    "\n",
    "setdiff(il, sy)"
   ],
   "id": "2c606560-186d-48d0-a224-535255fa0397",
   "metadata": {},
   "execution_count": null
  },
  {
   "outputs": [],
   "cell_type": "code",
   "source": [
    "using StatsBase: countmap\n",
    "\n",
    "sort(countmap(il), byvalue = true, rev = true)"
   ],
   "id": "0f95fd00-591f-4e57-b1b7-af6b20217e0d",
   "metadata": {},
   "execution_count": null
  }
 ],
 "nbformat_minor": 5,
 "metadata": {
  "language_info": {
   "file_extension": ".jl",
   "mimetype": "application/julia",
   "name": "julia",
   "version": "1.8.5"
  },
  "kernelspec": {
   "name": "julia-1.8",
   "display_name": "Julia 1.8.5",
   "language": "julia"
  }
 },
 "nbformat": 4
}
