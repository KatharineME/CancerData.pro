{
 "cells": [
  {
   "outputs": [],
   "cell_type": "code",
   "source": [
    "using BioLab\n",
    "\n",
    "ENV[\"LINES\"] = 100"
   ],
   "id": "2f2e3891-39dd-4123-a959-6c56de9fbf0d",
   "metadata": {},
   "execution_count": null
  },
  {
   "cell_type": "markdown",
   "source": [
    "## read"
   ],
   "id": "6d8209a8-8baf-4d49-8978-00db79ba5bee",
   "metadata": {}
  },
  {
   "outputs": [],
   "cell_type": "code",
   "source": [
    "gs = \"GSE122404\"\n",
    "\n",
    "ty_bl = BioLab.GEO.read(gs)\n",
    "\n",
    ";"
   ],
   "id": "0efc1adf-026b-42fe-82c4-06c6959f4da6",
   "metadata": {},
   "execution_count": null
  },
  {
   "cell_type": "markdown",
   "source": [],
   "id": "2a69fbaf-5151-4fd2-afba-687815157632",
   "metadata": {}
  },
  {
   "outputs": [],
   "cell_type": "code",
   "source": [
    "pl_ke_va = ty_bl[\"PLATFORM\"]\n",
    "\n",
    "pl = collect(keys(pl_ke_va))[1]\n",
    "\n",
    "println(pl)\n",
    "\n",
    "fe_na = BioLab.GEO._name(pl, pl_ke_va[pl][\"fe_x_in_x_an\"])\n",
    "\n",
    "if fe_na[\"16657485\"] != \"XR_132471\"\n",
    "\n",
    "    error()\n",
    "\n",
    "end"
   ],
   "id": "b8e30235-dd4a-4c86-8112-809483d81428",
   "metadata": {},
   "execution_count": null
  },
  {
   "cell_type": "markdown",
   "source": [
    "## tabulate"
   ],
   "id": "610a0151-5468-4fcb-b342-837a5dd0a42b",
   "metadata": {}
  },
  {
   "outputs": [],
   "cell_type": "code",
   "source": [
    "fe_x_sa_x_an, fe_x_sa_x_nu_____... = BioLab.GEO.tabulate(ty_bl)\n",
    "\n",
    ";"
   ],
   "id": "35acf1ff-aa4a-48e5-8b7a-5d021c860d12",
   "metadata": {},
   "execution_count": null
  },
  {
   "outputs": [],
   "cell_type": "code",
   "source": [
    "fe_x_sa_x_an"
   ],
   "id": "6410ba50-62cc-425f-aaae-ede28a7cc343",
   "metadata": {},
   "execution_count": null
  },
  {
   "outputs": [],
   "cell_type": "code",
   "source": [
    "println(length(fe_x_sa_x_nu_____))\n",
    "\n",
    "fe_x_sa_x_nu_____[1]"
   ],
   "id": "d878ee08-478b-4416-9fbe-2e17d477757f",
   "metadata": {},
   "execution_count": null
  },
  {
   "cell_type": "markdown",
   "source": [
    "## read and tabulate"
   ],
   "id": "24e6340b-e3a0-48d4-b2b3-ba4fd099dfcb",
   "metadata": {}
  },
  {
   "outputs": [],
   "cell_type": "code",
   "source": [
    "ty_bl, fe_x_sa_x_an, fe_x_sa_x_nu_____ = nothing, nothing, nothing\n",
    "\n",
    "for gs in (\n",
    "    \"GSE106128\",\n",
    "    # \"GSE107011\", \n",
    "    # \"GSE168204\", \n",
    "    # \"GSE141484\",\n",
    ")\n",
    "\n",
    "    println(\"=\"^99)\n",
    "\n",
    "    println(gs)\n",
    "\n",
    "    println(\"-\"^99)\n",
    "\n",
    "    ty_bl = BioLab.GEO.read(gs; pr = false)\n",
    "\n",
    "    fe_x_sa_x_an, fe_x_sa_x_nu_____... = BioLab.GEO.tabulate(ty_bl)\n",
    "\n",
    "    println(size(fe_x_sa_x_an))\n",
    "\n",
    "    println([size(fe_x_sa_x_nu) for fe_x_sa_x_nu in fe_x_sa_x_nu_____])\n",
    "\n",
    "end"
   ],
   "id": "2768aa23-9fd6-4e3c-b301-2a75b8b2bd93",
   "metadata": {},
   "execution_count": null
  },
  {
   "outputs": [],
   "cell_type": "code",
   "source": [
    "ta = ty_bl[\"PLATFORM\"][\"GPL6947\"][\"fe_x_in_x_an\"]\n",
    "\n",
    "for (na, co) in zip(names(ta), eachcol(ta))\n",
    "\n",
    "    if na in [\"Symbol\", \"ILMN_Gene\"]\n",
    "\n",
    "        println()\n",
    "\n",
    "        println(na)\n",
    "\n",
    "        println(length(unique(co)))\n",
    "\n",
    "        g = 0\n",
    "\n",
    "        e = 0\n",
    "\n",
    "        for i in co\n",
    "\n",
    "            if length(i) < 1\n",
    "\n",
    "                e += 1\n",
    "\n",
    "            elseif occursin(\";\", i)\n",
    "\n",
    "                g += 1\n",
    "\n",
    "            end\n",
    "        end\n",
    "\n",
    "        print(\"g: $g\\n\")\n",
    "\n",
    "        print(\"e: $e\\n\")\n",
    "\n",
    "    end\n",
    "\n",
    "end"
   ],
   "id": "b8c2beb9-6d3d-4413-9bc5-f93e58707d1f",
   "metadata": {},
   "execution_count": null
  },
  {
   "outputs": [],
   "cell_type": "code",
   "source": [
    "il = ta[!, \"ILMN_Gene\"]\n",
    "sy = ta[!, \"Symbol\"]\n",
    "\n",
    "length(intersect(il, sy))\n",
    "\n",
    "setdiff(il, sy)"
   ],
   "id": "2c606560-186d-48d0-a224-535255fa0397",
   "metadata": {},
   "execution_count": null
  },
  {
   "outputs": [],
   "cell_type": "code",
   "source": [
    "using StatsBase: countmap\n",
    "\n",
    "sort(countmap(il), byvalue = true, rev = true)"
   ],
   "id": "0f95fd00-591f-4e57-b1b7-af6b20217e0d",
   "metadata": {},
   "execution_count": null
  },
  {
   "outputs": [],
   "cell_type": "code",
   "source": [
    "sort(countmap(sy), byvalue = true, rev = true)"
   ],
   "id": "c1c15d8b-1da4-4cdb-90fc-ec15cc4b9380",
   "metadata": {},
   "execution_count": null
  },
  {
   "outputs": [],
   "cell_type": "code",
   "source": [
    "fe_x_sa_x_an"
   ],
   "id": "4ba85535-5a07-4569-9319-be515857fe2b",
   "metadata": {},
   "execution_count": null
  },
  {
   "outputs": [],
   "cell_type": "code",
   "source": [
    "fe_x_sa_x_nu_____[1]"
   ],
   "id": "8c4004c2-7a0e-48b9-9fb6-cc9370239244",
   "metadata": {},
   "execution_count": null
  }
 ],
 "nbformat_minor": 5,
 "metadata": {
  "language_info": {
   "file_extension": ".jl",
   "mimetype": "application/julia",
   "name": "julia",
   "version": "1.8.5"
  },
  "kernelspec": {
   "name": "julia-1.8",
   "display_name": "Julia 1.8.5",
   "language": "julia"
  }
 },
 "nbformat": 4
}
