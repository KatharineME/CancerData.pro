{
 "cells": [
  {
   "cell_type": "code",
   "execution_count": null,
   "id": "036b0bba-b163-4d88-bbc3-0bfb8c498bfe",
   "metadata": {
    "execution": {
     "iopub.execute_input": "2023-01-29T14:01:37.201000Z",
     "iopub.status.busy": "2023-01-29T14:01:36.731000Z",
     "iopub.status.idle": "2023-01-29T14:01:39.647000Z",
     "shell.execute_reply": "2023-01-29T14:01:39.633000Z"
    }
   },
   "outputs": [],
   "source": [
    "include(\"../src/CancerData.jl\")"
   ]
  }
 ],
 "metadata": {
  "kernelspec": {
   "display_name": "Julia 1.8.2",
   "language": "julia",
   "name": "julia-1.8"
  },
  "language_info": {
   "file_extension": ".jl",
   "mimetype": "application/julia",
   "name": "julia",
   "version": "1.8.5"
  }
 },
 "nbformat": 4,
 "nbformat_minor": 5
}
